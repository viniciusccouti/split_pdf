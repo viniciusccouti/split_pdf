{
 "cells": [
  {
   "cell_type": "code",
   "execution_count": 2,
   "id": "cb6f5af8",
   "metadata": {},
   "outputs": [],
   "source": [
    "import PyPDF2 as pyf\n",
    "from pathlib import Path\n",
    "\n",
    "nome_arquivo = \"Vinicius_Coutinho CV_Aug 2023.pdf\"\n",
    "arquivo_pdf = pyf.PdfReader(nome_arquivo)\n",
    "\n",
    "i = 1\n",
    "for pagina in arquivo_pdf.pages:\n",
    "    arquivo_novo = pyf.PdfWriter()\n",
    "    arquivo_novo.add_page(pagina)\n",
    "    #salvar o arquivo\n",
    "    with Path(fr'C:\\Users\\vinicius_coutinho\\Downloads\\splitpdf\\Arquivo{i}.pdf').open(mode='wb') as arquivo_final:\n",
    "        arquivo_novo.write(arquivo_final)\n",
    "        i += 1"
   ]
  }
 ],
 "metadata": {
  "kernelspec": {
   "display_name": "Python 3 (ipykernel)",
   "language": "python",
   "name": "python3"
  },
  "language_info": {
   "codemirror_mode": {
    "name": "ipython",
    "version": 3
   },
   "file_extension": ".py",
   "mimetype": "text/x-python",
   "name": "python",
   "nbconvert_exporter": "python",
   "pygments_lexer": "ipython3",
   "version": "3.9.7"
  }
 },
 "nbformat": 4,
 "nbformat_minor": 5
}
